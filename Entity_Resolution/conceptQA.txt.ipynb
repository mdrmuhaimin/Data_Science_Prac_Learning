{
 "cells": [
  {
   "cell_type": "markdown",
   "metadata": {},
   "source": [
    "**How to construct a training dataset?**"
   ]
  },
  {
   "cell_type": "markdown",
   "metadata": {},
   "source": [
    "Getting the data:\n",
    "From that data set(ground truth) we can have our training set, test set, validation set. Where we will use training set to train a model and test set to test the accuracy of the model. validation set we keep it completly hidden from training set and run the model in it to finally evaulate it.\n",
    "\n",
    "Constructing features:\n",
    "Firstly we can take all the possible word available from all the possible products and create a dictionary. A key will be assigned to each word. Now in our training dataset we can describe whether a word is present in any of the pair by creating feature as \n",
    "\n",
    "```\n",
    "key1_product1, key2_product1, ... , keyN_product1, key1_product2, key2_product2, ... , keyN_product2  \n",
    "```\n",
    "\n",
    "Though it would accurately represnt which words are common in both pairs it would be really expensive with large dataset where N, the number unique of words found in all the products is very large. In that case we have 2N features. In that case we could use `jaccard similarity` instead to replace the above column and discribe similarities between pairs. Also if two products are similar they have very similar price so we can use price difference for product as well. For similar products price difference should be very low, lastly we can also use the manufacturerer, for same product they should have the similar manufacturer. However they would be discreete variable instead of continous variable so we can use one hot encoding technique to convert manufacturer with continous values. \n"
   ]
  },
  {
   "cell_type": "markdown",
   "metadata": {},
   "source": [
    "**How to transform a pair of records into a feature vector?**"
   ]
  },
  {
   "cell_type": "markdown",
   "metadata": {},
   "source": [
    "In previous question I discussed how we can select features in our training dataset, for feature vector we can put either all of our key_product boolean features or jaccard similarity (whatever we choose based on the size of our word dictionary) along with price_differences and continuous representation of manufacturer done by using one hot encoding technique in a vector and that would be our feature vector."
   ]
  },
  {
   "cell_type": "markdown",
   "metadata": {},
   "source": [
    "**How to evaluate your model?**"
   ]
  },
  {
   "cell_type": "markdown",
   "metadata": {},
   "source": [
    "As this is a binary classification problems we can use F measure to evaluate the model on our validation data which was hidden from our machine learning model to evaluate it's performance. For doing that we can run our model in validation set and calculate it."
   ]
  },
  {
   "cell_type": "code",
   "execution_count": null,
   "metadata": {
    "collapsed": true
   },
   "outputs": [],
   "source": []
  }
 ],
 "metadata": {
  "kernelspec": {
   "display_name": "Python 3",
   "language": "python",
   "name": "python3"
  },
  "language_info": {
   "codemirror_mode": {
    "name": "ipython",
    "version": 3
   },
   "file_extension": ".py",
   "mimetype": "text/x-python",
   "name": "python",
   "nbconvert_exporter": "python",
   "pygments_lexer": "ipython3",
   "version": "3.6.3"
  }
 },
 "nbformat": 4,
 "nbformat_minor": 2
}
