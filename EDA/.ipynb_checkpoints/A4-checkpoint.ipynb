{
 "cells": [
  {
   "cell_type": "markdown",
   "metadata": {},
   "source": [
    "# Assignment 4: EDA and Bootstrapping"
   ]
  },
  {
   "cell_type": "markdown",
   "metadata": {},
   "source": [
    "## Objective"
   ]
  },
  {
   "cell_type": "markdown",
   "metadata": {},
   "source": [
    "Statistics play a vital role in data science for (at least) two reasons. First, it can be used to gain a deep understanding of data. This process is known as **Exploratory Data Analysis (EDA)**. Second, it can be used to infer the relationship between a sample and the population. This process is known as **inference**. In this assignment, you will learn about EDA and statistical inference through the analysis of a very interesting dataset - [property tax report data](http://data.vancouver.ca/datacatalogue/propertyTax.htm). Specifically, you will learn the followings:\n",
    "\n",
    "1. Be able to perform EDA on a single column (i.e., univariate analysis) \n",
    "2. Be able to perform EDA on multiple columns (i.e., multivariate analysis)\n",
    "3. Be able to extract insights from visualizations\n",
    "4. Be able to ask critical questions about data\n",
    "5. Be able to estimate a population parameter based on a sample\n",
    "6. Be able to use the bootstrap to quantify the uncertainty of an estimated value\n",
    "\n",
    "In this assignment, you can use [pandas](https://pandas.pydata.org/) or PySpark to manipulate data, and use [matplotlib](https://matplotlib.org/) or [seaborn](https://seaborn.pydata.org) to make plots. "
   ]
  },
  {
   "cell_type": "markdown",
   "metadata": {},
   "source": [
    "## Part 1. EDA"
   ]
  },
  {
   "cell_type": "markdown",
   "metadata": {},
   "source": [
    "Imagine you are a data scientist working at a real-estate company. In this week, your job is to analyze the Vancouver's housing price. You first download a dataset from [property_tax_report_2018.zip](property_tax_report_2018.zip). The dataset contains information on properties from BC Assessment (BCA) and City sources in 2018.  You can find the schema information of the dataset from this [webpage](http://data.vancouver.ca/datacatalogue/propertyTaxAttributes.htm). But this is not enough. You still know little about the data. That's why you need to do EDA in order to get a better and deeper understanding of the data."
   ]
  },
  {
   "cell_type": "markdown",
   "metadata": {},
   "source": [
    "We first load the data as a DataFrame. To make this analysis more interesting, I added two new columns to the data: `CURRENT_PRICE` represents the property price in 2018; `PREVIOUS_PRICE` represents the property price in 2017. "
   ]
  },
  {
   "cell_type": "code",
   "execution_count": 3,
   "metadata": {},
   "outputs": [],
   "source": [
    "import pandas as pd\n",
    "import seaborn as sns\n",
    "import numpy as np\n",
    "import matplotlib.pyplot as plt\n",
    "import matplotlib.ticker as ticker"
   ]
  },
  {
   "cell_type": "code",
   "execution_count": null,
   "metadata": {},
   "outputs": [],
   "source": [
    "df = pd.read_csv(\"property_tax_report_2018.csv\")\n",
    "\n",
    "df['CURRENT_PRICE'] = df.apply(lambda x: x['CURRENT_LAND_VALUE']+x['CURRENT_IMPROVEMENT_VALUE'], axis = 1)\n",
    "\n",
    "df['PREVIOUS_PRICE'] = df.apply(lambda x: x['PREVIOUS_LAND_VALUE']+x['PREVIOUS_IMPROVEMENT_VALUE'], axis = 1)"
   ]
  },
  {
   "cell_type": "markdown",
   "metadata": {},
   "source": [
    "Now let's start the EDA process. \n",
    "\n",
    "**Hint.** For some of the following questions, I provided an example plot (see [link](http://htmlpreview.github.io/?https://github.com/sfu-db/bigdata-cmpt733/blob/master/Assignments/A4/A4-plots.html)). But note that you do not have to use the same plot design. In fact, I didn't do a good job to follow the *Principles of Visualization Design* presented in Lecture 3.  You should think about how to correct the bad designs in my plots."
   ]
  },
  {
   "cell_type": "markdown",
   "metadata": {},
   "source": [
    "### Question 1. Look at some example rows\n",
    "Print the first five rows of the data:"
   ]
  },
  {
   "cell_type": "code",
   "execution_count": null,
   "metadata": {
    "scrolled": true
   },
   "outputs": [],
   "source": [
    "first_five_rows = df[:5]\n",
    "print(first_five_rows)"
   ]
  },
  {
   "cell_type": "markdown",
   "metadata": {},
   "source": [
    "### Question 2. Get summary statistics"
   ]
  },
  {
   "cell_type": "markdown",
   "metadata": {},
   "source": [
    "From the above output, you will know that the data has 28 columns. Please use the describe() function to get the summary statistics of each column."
   ]
  },
  {
   "cell_type": "code",
   "execution_count": null,
   "metadata": {},
   "outputs": [],
   "source": [
    "print(df.describe())"
   ]
  },
  {
   "cell_type": "markdown",
   "metadata": {},
   "source": [
    "Please look at the above output carefully, and make sure that you understand the meanings of each row (e.g., std, 25% percentile)."
   ]
  },
  {
   "cell_type": "markdown",
   "metadata": {},
   "source": [
    "### Question 3. Examine missing values"
   ]
  },
  {
   "cell_type": "markdown",
   "metadata": {},
   "source": [
    "Now we are going to perform EDA on a single column (i.e., univariate analysis). We chose `YEAR_BUILT`, which represents in which year a property was built.  We first check whether the column has any missing value. "
   ]
  },
  {
   "cell_type": "code",
   "execution_count": null,
   "metadata": {
    "scrolled": true
   },
   "outputs": [],
   "source": [
    "# Print the percentage of the rows whose YEAR_BUILT is missing.\n",
    "total_rows = df.shape[0]\n",
    "total_year_built = df.describe()['YEAR_BUILT']['count']\n",
    "if not df.empty and df['YEAR_BUILT'].hasnans:\n",
    "    missing_rows_percentage = (1 - total_year_built/total_rows) * 100\n",
    "    print('From YEAR_BUILT {} percentage of values are missing'.format(missing_rows_percentage))"
   ]
  },
  {
   "cell_type": "markdown",
   "metadata": {},
   "source": [
    "Missing values are very common in real-world datasets. In practice, you should always be aware of the impact of the missing values on your downstream analysis results."
   ]
  },
  {
   "cell_type": "markdown",
   "metadata": {},
   "source": [
    "### Question 4.  Plot a line chart"
   ]
  },
  {
   "cell_type": "markdown",
   "metadata": {},
   "source": [
    "We now start investigating the values in the `YEAR_BUILT` column.  Suppose we want to know: \"How many properties were built in each year (from 1990 to 2018)?\" Please plot a line chart to answer the question."
   ]
  },
  {
   "cell_type": "code",
   "execution_count": null,
   "metadata": {
    "scrolled": true
   },
   "outputs": [],
   "source": [
    "year_built_actual = df[(df['YEAR_BUILT'] >= 1900) & (df['YEAR_BUILT'] <= 2018)].groupby('YEAR_BUILT').size()\n",
    "year_built_count = []\n",
    "for i  in range(1900,2019):\n",
    "    if (i in year_built_actual.index):\n",
    "        house_built_in_year = (i, year_built_actual[i])\n",
    "        year_built_count.append(house_built_in_year)\n",
    "\n",
    "year_built_count_dataframe = pd.DataFrame(data=year_built_count, columns=['year_built', 'count'])"
   ]
  },
  {
   "cell_type": "code",
   "execution_count": null,
   "metadata": {
    "scrolled": true
   },
   "outputs": [],
   "source": [
    "fig_line, ax_line = plt.subplots(figsize=(20,5))\n",
    "plt.plot(year_built_count_dataframe['year_built'], year_built_count_dataframe['count'],'o-')\n",
    "starting_year = 1900\n",
    "ending_year = 2018\n",
    "step_size = 5.0\n",
    "plt.xticks(rotation=45)\n",
    "plt.xticks(np.arange(starting_year, ending_year + step_size,  step_size))\n",
    "plt.grid()\n",
    "plt.xlabel('Year built')\n",
    "plt.ylabel('# of properties')\n",
    "sns.despine()\n",
    "plt.show()"
   ]
  },
  {
   "cell_type": "markdown",
   "metadata": {
    "collapsed": true
   },
   "source": [
    "Please write down the **two** most interesting findings that you draw from the plot. For example, you can say: <font color='blue'>\"Vancouver has about 6300 properties built in 1996 alone, which is more than any other year\"</font>. For each finding, please write <font color=\"red\">no more than 2 sentences</font>.\n",
    "\n",
    "**Findings**\n",
    "1. More than 3000 properties were built in both of year 1910 and 1912 which was highest from year 1900 to 1985.\n",
    "2. In 2001 less than 2000 properties were built which was lowest since 1985."
   ]
  },
  {
   "cell_type": "markdown",
   "metadata": {},
   "source": [
    "### Question 5. Plot a bar chart"
   ]
  },
  {
   "cell_type": "markdown",
   "metadata": {},
   "source": [
    "Next, we want to find that, between 1900 and 2018, which years have the most number of properties been built? Plot a bar chart to show the top 20 years. "
   ]
  },
  {
   "cell_type": "code",
   "execution_count": null,
   "metadata": {
    "scrolled": true
   },
   "outputs": [],
   "source": [
    "fig_bar, ax_bar = plt.subplots(figsize=(20,5))\n",
    "top_20_years = year_built_count_dataframe.sort_values(['count'], ascending=[False]).head(20)\n",
    "plt.xlabel('Year built')\n",
    "plt.ylabel('Count')\n",
    "plt.xticks(rotation=45)\n",
    "sns.barplot(x = 'year_built', y ='count', data=top_20_years, palette=\"Set3\", order=list(top_20_years['year_built']), ax=ax_bar)\n",
    "sns.despine()\n",
    "plt.gca().yaxis.grid(True)\n",
    "plt.xlabel('Year built')\n",
    "plt.ylabel('# of properties')\n",
    "plt.show()"
   ]
  },
  {
   "cell_type": "markdown",
   "metadata": {},
   "source": [
    "Please write down the **two** most interesting findings that you draw from the plot. \n",
    "\n",
    "**Findings**\n",
    "1. Amongst the year where top 20 properties were built 18 of them are from 1990 and after wards. The other 2 were 1989 and 1912. \n",
    "2. From 1993 to 2000 all the years appeared in top 20 years where most properties were built. This indicates lots of property developments happened during this time. "
   ]
  },
  {
   "cell_type": "markdown",
   "metadata": {},
   "source": [
    "### Question 6. Plot a histogram"
   ]
  },
  {
   "cell_type": "markdown",
   "metadata": {},
   "source": [
    "What's the distribution of the number of properties built between 1990 and 2018? Please plot a histogram to answer this question."
   ]
  },
  {
   "cell_type": "code",
   "execution_count": null,
   "metadata": {},
   "outputs": [],
   "source": [
    "fig_bar, ax_bar = plt.subplots(figsize=(10,5))\n",
    "sns.distplot(year_built_count_dataframe['count'], kde=False, rug=False, bins=50)\n",
    "plt.xlabel('# of properties')\n",
    "plt.ylabel('Frequency')\n",
    "plt.grid()\n",
    "plt.show()"
   ]
  },
  {
   "cell_type": "markdown",
   "metadata": {},
   "source": [
    "Please write down the **two** most interesting findings that you draw from the plot. \n",
    "\n",
    "**Findings**\n",
    "1. Majority years there were around at least 1000 house is built.\n",
    "2. Rarely there are more than 5000 houses are built in year. "
   ]
  },
  {
   "cell_type": "markdown",
   "metadata": {},
   "source": [
    "### Question 7. Make a scatter plot"
   ]
  },
  {
   "cell_type": "markdown",
   "metadata": {},
   "source": [
    "Suppose we are interested in those years which built more than 2000 properties. Make a scatter plot to examine whether there is a relationship between the number of built properties and the year?"
   ]
  },
  {
   "cell_type": "code",
   "execution_count": null,
   "metadata": {
    "scrolled": true
   },
   "outputs": [],
   "source": [
    "built_geq_2000_prop = year_built_count_dataframe[(year_built_count_dataframe['count'] > 2000)]\n",
    "sns.regplot(x=built_geq_2000_prop['count'], y=built_geq_2000_prop['year_built'], fit_reg=False)\n",
    "plt.grid()\n",
    "plt.show()"
   ]
  },
  {
   "cell_type": "markdown",
   "metadata": {},
   "source": [
    "Please write down the **two** most interesting findings that you draw from the plot. \n",
    "\n",
    "**Findings**\n",
    "1. After 1970 it is common to see a year where there are 2000 or more properties has been built. \n",
    "2. Between 1920 and 1960 it there had never been a year when there were more that 2000 properties were built. "
   ]
  },
  {
   "cell_type": "markdown",
   "metadata": {},
   "source": [
    "### Question 8. PDF and CDF"
   ]
  },
  {
   "cell_type": "markdown",
   "metadata": {},
   "source": [
    "Can you believe that you have already drawn 8 interesting findings by exploring a single column! This is the power of EDA combined with critical thinking. Now we are moving to multivariate analysis.\n",
    "\n",
    "Suppose you want to compare the housing price between this year and last year, i.e., CURRENT_PRICE vs. PREVIOUS_PRICE. \n",
    "You can plot their distributions, and make the comparison. There are two ways to define a distribution: [Probabilistic Distribution Function](https://en.wikipedia.org/wiki/Probability_density_function) (PDF) and [Cumulative Distribution Function](https://en.wikipedia.org/wiki/Cumulative_distribution_function) (CDF). \n",
    "\n",
    "In the following, please make two plots and put them side-by-side.  \n",
    "* In the first plot, use histograms to plot the probabilistic distributions of CURRENT_PRICE and PREVIOUS_PRICE.\n",
    "* In the second plot, use histograms to plot the cumulative distributions of CURRENT_PRICE and PREVIOUS_PRICE.\n",
    "\n",
    "There are a few properties which are way more expensive than the others. For both plots, please exclude those properties by setting `xlim` = (0, 5Million)."
   ]
  },
  {
   "cell_type": "code",
   "execution_count": null,
   "metadata": {
    "scrolled": false
   },
   "outputs": [],
   "source": [
    "fig, (ax1, ax2) = plt.subplots(ncols=2, nrows=1, figsize=(20,5))\n",
    "current_land_price = df['CURRENT_PRICE'][(df['CURRENT_PRICE'] <= 5000000)].apply(lambda x: x * 1.0 / 1000000)\n",
    "previous_land_price = df['PREVIOUS_PRICE'][(df['PREVIOUS_PRICE'] <= 5000000)].apply(lambda x: x * 1.0 / 1000000)\n",
    "sns.set_color_codes(palette='deep')\n",
    "\n",
    "#Plot PDF\n",
    "sns.distplot(previous_land_price, kde=False, rug=False, bins=450, color='red', label='Previous price', ax = ax1)\n",
    "sns.distplot(current_land_price, kde=False, rug=False, bins=450, color='blue', label='Current price', ax = ax1)\n",
    "ax1.set_xlabel('Property Price (Million)')\n",
    "ax1.set_ylabel('# of Properties')\n",
    "ax1.legend()\n",
    "ax1.grid(True)\n",
    "\n",
    "#Plot CDF\n",
    "sns.distplot(previous_land_price, hist_kws={'cumulative': True}, norm_hist=True, kde=False, bins=450, color='blue', label='Previous price', ax = ax2)\n",
    "sns.distplot(current_land_price, hist_kws={'cumulative': True}, norm_hist=True, kde=False, bins=450, color='red', label='Current price',  ax = ax2)\n",
    "ax2.set_xlabel('Property Price (Million)')\n",
    "ax2.set_ylabel('Probability')\n",
    "ax2.legend()\n",
    "ax2.grid(True)\n",
    "\n",
    "plt.show()"
   ]
  },
  {
   "cell_type": "markdown",
   "metadata": {},
   "source": [
    "Please write down the **two** most interesting findings that you draw from the plots. \n",
    "\n",
    "**Findings**\n",
    "1. For majorities properties (almost 80%) last 2 years the price was less than 2 Million\n",
    "2. The price between current year and the previous year, for the property worth more than 2 million is very stable. "
   ]
  },
  {
   "cell_type": "markdown",
   "metadata": {},
   "source": [
    "### Question 9. Use EDA to answer an interesting question (1)"
   ]
  },
  {
   "cell_type": "markdown",
   "metadata": {},
   "source": [
    "In the above plots, we found that the overall housing price has increased, but we do not which type of property has increased more. \n",
    "\n",
    "Now we add another variable `LEGAL_TYPE` (e.g., STRATA, LAND) to the analysis, and consider three variables (`LEGAL_TYPE`, `CURRENT_PRICE`, `PREVIOUS_PRICE`) in total. \n",
    "\n",
    "In the following, please make two plots and put them side-by-side.\n",
    "* In the first plot, please use histograms to plot the probabilistic distributions of CURRENT_PRICE and PREVIOUS_PRICE for `LEGAL_TYPE` = \"STRATA\".\n",
    "* In the first plot, please use histograms to plot the probabilistic distributions of CURRENT_PRICE and PREVIOUS_PRICE for `LEGAL_TYPE` = \"LAND\"."
   ]
  },
  {
   "cell_type": "code",
   "execution_count": null,
   "metadata": {
    "scrolled": true
   },
   "outputs": [],
   "source": [
    "fig, (ax1, ax2) = plt.subplots(ncols=2, nrows=1, figsize=(20,5))\n",
    "current_land_price_strata = df['CURRENT_PRICE'][(df['CURRENT_PRICE'] <= 5000000) & (df['LEGAL_TYPE'] == 'STRATA')].apply(lambda x: x * 1.0 / 1000000)\n",
    "previous_land_price_strata = df['PREVIOUS_PRICE'][(df['PREVIOUS_PRICE'] <= 5000000) & (df['LEGAL_TYPE'] == 'STRATA')].apply(lambda x: x * 1.0 / 1000000)\n",
    "\n",
    "current_land_price_land = df['CURRENT_PRICE'][(df['CURRENT_PRICE'] <= 5000000) & (df['LEGAL_TYPE'] == 'LAND')].apply(lambda x: x * 1.0 / 1000000)\n",
    "previous_land_price_land = df['PREVIOUS_PRICE'][(df['PREVIOUS_PRICE'] <= 5000000) & (df['LEGAL_TYPE'] == 'LAND')].apply(lambda x: x * 1.0 / 1000000)\n",
    "\n",
    "sns.set_color_codes(palette='deep')\n",
    "\n",
    "#Plot Strata\n",
    "sns.distplot(previous_land_price_strata, kde=False, rug=False, bins=450, color='red', label='Previous price', ax = ax1)\n",
    "sns.distplot(current_land_price_strata, kde=False, rug=False, bins=450, color='blue', label='Current price', ax = ax1)\n",
    "ax1.set_xlabel('Starta Property Price (Million)')\n",
    "ax1.set_ylabel('# of Properties')\n",
    "ax1.legend()\n",
    "ax1.grid(True)\n",
    "\n",
    "#Plot Land\n",
    "sns.distplot(previous_land_price_land, kde=False, rug=False, bins=450, color='red', label='Previous price', ax = ax2)\n",
    "sns.distplot(current_land_price_land, kde=False, rug=False, bins=450, color='blue', label='Current price', ax = ax2)\n",
    "ax2.set_xlabel('Land Property Price (Million)')\n",
    "ax2.set_ylabel('# of Properties')\n",
    "ax2.legend()\n",
    "ax2.grid(True)\n",
    "\n",
    "plt.show()\n"
   ]
  },
  {
   "cell_type": "markdown",
   "metadata": {},
   "source": [
    "Please write down the **two** most interesting findings that you draw from the plots. \n",
    "\n",
    "**Findings**\n",
    "1. The majorities of strata properties price were less than 1 million where majorities of land properties are between 1 and 3 million. \n",
    "2. There is a slight increase of the price in 1 year for strata properties but land properties prices are very stable. "
   ]
  },
  {
   "cell_type": "markdown",
   "metadata": {},
   "source": [
    "### Question 10. Use EDA to answer interesting questions (2)"
   ]
  },
  {
   "cell_type": "markdown",
   "metadata": {},
   "source": [
    "Although the housing price of the entire Vancouver area is increasing, there might be some areas whose housing price is decreasing. To answer this question, we need to consider another column -- `PROPERTY_POSTAL_CODE`.\n",
    "\n",
    "`PROPERTY_POSTAL_CODE` (e.g., \"V5A 1S6\") is a six-character string with a space separating the third and fourth characters. We use the first three characters to represent an *area*. \n",
    "\n",
    "We first filter out the areas which have less than 10 properties. For each of the remaining areas, we calculate the percentage of the properties whose price has decreased compared to the last year. For example, if an area \"V5A\" has 50 properties, and 30 of them have decreased, then the percentage is 60%.\n",
    "\n",
    "Please write code to find the top-10 areas with the highest percentages. Create a bar chart to visualize them. "
   ]
  },
  {
   "cell_type": "code",
   "execution_count": null,
   "metadata": {
    "scrolled": true
   },
   "outputs": [],
   "source": [
    "valid_postal_code_length = 7\n",
    "df_with_valid_postal_code = df.copy()[df['PROPERTY_POSTAL_CODE'] \\\n",
    "                       .apply(lambda x: type(x).__name__ == 'str' and len(x) == valid_postal_code_length)]\n",
    "df_with_valid_postal_code['POSTAL_CODE_SHORT'] = df_with_valid_postal_code \\\n",
    "                        .apply(lambda x: x['PROPERTY_POSTAL_CODE'].split(' ')[0], axis = 1)\n",
    "threshold = 10\n",
    "post_code_count = df_with_valid_postal_code['POSTAL_CODE_SHORT'].value_counts()\n",
    "valid_post_code = post_code_count[post_code_count >= threshold].index.values\n",
    "df_to_consider_for_plotting = df_with_valid_postal_code.copy()[df_with_valid_postal_code['POSTAL_CODE_SHORT'].isin(valid_post_code)]\n",
    "\n"
   ]
  },
  {
   "cell_type": "code",
   "execution_count": null,
   "metadata": {},
   "outputs": [],
   "source": [
    "df_to_consider_for_plotting['IS_PRICE_DECRAESED'] = df_to_consider_for_plotting.apply(lambda x: int(x['CURRENT_PRICE'] < x['PREVIOUS_PRICE']), axis = 1)\n",
    "top_10_depreciative_property = df_to_consider_for_plotting.groupby(['POSTAL_CODE_SHORT']).agg({\"IS_PRICE_DECRAESED\": 'mean'}).sort_values(['IS_PRICE_DECRAESED'], ascending=[False]).head(10)\n",
    "\n",
    "fig_bar, ax_bar = plt.subplots(figsize=(20,5))\n",
    "plt.xlabel('Area')\n",
    "plt.ylabel('Percentage (%)')\n",
    "plt.yticks(np.arange(0, 1.1, 0.1))\n",
    "sns.barplot(list(top_10_depreciative_property.index), list(top_10_depreciative_property.values), palette=\"Set3\", order=list(top_10_depreciative_property.index), ax=ax_bar)\n",
    "ax_bar.set_ylim([0.0,1.0])\n",
    "plt.gca().yaxis.grid(True)\n",
    "plt.show()"
   ]
  },
  {
   "cell_type": "markdown",
   "metadata": {},
   "source": [
    "Please write down the **two** most interesting findings that you draw from the plot. \n",
    "\n",
    "**Findings**\n",
    "1. There are some areas in Vancouver where price of the properties has been decreased, even in two regions almost 80% of properties value has been decreased. \n",
    "2. There are only six area where 60% or more properties value has been decreased amongst them four of them started with V6S, V6L, V6N, V6R and others are is V5W and V5P"
   ]
  },
  {
   "cell_type": "markdown",
   "metadata": {},
   "source": [
    "### Question 11. Come up with your own question."
   ]
  },
  {
   "cell_type": "markdown",
   "metadata": {},
   "source": [
    "We first filter out the areas which have less than 10 properties. For each of the remaining areas, we calculate the percentage of the properties whose price has increased compared to the last year. For example, if an area \"V5S\" has 50 properties, and 30 of them have decreased, then the percentage is 60%.\n",
    "Please write code to find the top-10 areas with the highest percentages. Create a bar chart to visualize them."
   ]
  },
  {
   "cell_type": "markdown",
   "metadata": {},
   "source": [
    "Secondly, please write code so that the output of your code can answer the question."
   ]
  },
  {
   "cell_type": "code",
   "execution_count": null,
   "metadata": {},
   "outputs": [],
   "source": [
    "df_to_consider_for_plotting['IS_PRICE_INCRAESED'] = df_to_consider_for_plotting.apply(lambda x: int(x['CURRENT_PRICE'] > x['PREVIOUS_PRICE']), axis = 1)\n",
    "top_10_booming_property = df_to_consider_for_plotting.groupby(['POSTAL_CODE_SHORT']).agg({\"IS_PRICE_INCRAESED\": 'mean'}).sort_values(['IS_PRICE_INCRAESED'], ascending=[False]).head(10)\n",
    "\n",
    "fig_bar, ax_bar = plt.subplots(figsize=(20,5))\n",
    "plt.xlabel('Area')\n",
    "plt.ylabel('Percentage (%)')\n",
    "plt.yticks(np.arange(0, 1.1, 0.1))\n",
    "sns.barplot(list(top_10_booming_property.index), list(top_10_booming_property.values), palette=\"Set3\", order=list(top_10_booming_property.index), ax=ax_bar)\n",
    "ax_bar.set_ylim([0.0,1.0])\n",
    "plt.gca().yaxis.grid(True)\n",
    "plt.show()"
   ]
  },
  {
   "cell_type": "markdown",
   "metadata": {},
   "source": [
    "Thirdly, please write the two most important findings.\n",
    "\n",
    "**Findings**\n",
    "1. The area code starting with V6B has almost all of its property price increased in one year. \n",
    "2. All of the properties from top 10 area where property values has been increased, got increase of 90% or more of the properties."
   ]
  },
  {
   "cell_type": "markdown",
   "metadata": {},
   "source": [
    "## Part 2. Bootstrapping"
   ]
  },
  {
   "cell_type": "markdown",
   "metadata": {},
   "source": [
    "In Part 1, we run our analysis over the full dataset. In reality, however, you may not be that lucky. It is more often than not that you can only collect a sample of the data. Whenever you derive a conclusion from a sample (e.g., The Vancouver's housing price has increased by 10\\% since last year), you should ALWAYS ask yourself: <font color=\"blue\">\"CAN I TRUST IT?\"</font>. In other words, you want to know that if the same analysis was conducted on the full data, would the same conclusion be derived? In Part 2, you will learn how to use bootstrapping to answer this question. "
   ]
  },
  {
   "cell_type": "markdown",
   "metadata": {},
   "source": [
    "Please download the sample dataset [property_tax_report_2018_sample.zip](property_tax_report_2018_sample.zip), and load it as a DataFrame. "
   ]
  },
  {
   "cell_type": "code",
   "execution_count": 4,
   "metadata": {},
   "outputs": [],
   "source": [
    "df_sample = pd.read_csv(\"property_tax_report_sample.csv\")\n",
    "\n",
    "df_sample['CURRENT_PRICE'] = df_sample.apply(lambda x: x['CURRENT_LAND_VALUE']+x['CURRENT_IMPROVEMENT_VALUE'], axis = 1)\n",
    "\n",
    "df_sample['PREVIOUS_PRICE'] = df_sample.apply(lambda x: x['PREVIOUS_LAND_VALUE']+x['PREVIOUS_IMPROVEMENT_VALUE'], axis = 1)\n",
    "\n",
    "df_sample = df_sample[df_sample['LEGAL_TYPE'] == 'STRATA']"
   ]
  },
  {
   "cell_type": "markdown",
   "metadata": {},
   "source": [
    "### Task 1. Analysis Result Without Bootstrapping"
   ]
  },
  {
   "cell_type": "markdown",
   "metadata": {},
   "source": [
    "Please compute the median of PREVIOUS_PRICE and CURRENT_PRICE, respectively, and compare them in a bar chart."
   ]
  },
  {
   "cell_type": "code",
   "execution_count": 5,
   "metadata": {},
   "outputs": [
    {
     "data": {
      "image/png": "[encoded data removed]",
      "text/plain": [
       "<matplotlib.figure.Figure at 0x106efcac8>"
      ]
     },
     "metadata": {},
     "output_type": "display_data"
    }
   ],
   "source": [
    "# Data processing\n",
    "from numpy import median\n",
    "sampled_cur_price_data = pd.DataFrame(data={'type': 'CURRENT PRICE', 'price': df_sample['CURRENT_PRICE']/1000000})\n",
    "sampled_prev_price_data = pd.DataFrame(data={'type': 'PREVIOUS PRICE', 'price': df_sample['PREVIOUS_PRICE']/1000000})\n",
    "sampled_all_price_data = sampled_prev_price_data.append(sampled_cur_price_data)\n",
    "\n",
    "#Plotting\n",
    "plt.xlabel('Median of current and previous price')\n",
    "plt.ylabel('Property price in million')\n",
    "plt.yticks(np.arange(0, 1.1, 0.1))\n",
    "ax = sns.barplot(x = 'type', y = 'price', data = sampled_all_price_data, estimator = median, ci = None, palette=\"Set3\")\n",
    "ax.set_ylim([0.0,1.0])\n",
    "ax.grid()\n",
    "plt.xlabel('Median of current and previous price')\n",
    "plt.ylabel('Property price in million')\n",
    "plt.show()"
   ]
  },
  {
   "cell_type": "markdown",
   "metadata": {},
   "source": [
    "### Task 2. Analysis Result With Bootstrapping"
   ]
  },
  {
   "cell_type": "markdown",
   "metadata": {},
   "source": [
    "From the above chart, we find that the median of PREVIOUS_PRICE is about 0.6 M, and the median of CURRENT_PRICE is about 0.7 M. Since the numbers were obtained from the sample, <font color=\"blue\">\"CAN WE TRUST THESE NUMBERS?\"</font> \n",
    "\n",
    "In the following, please implement the bootstrap by yourself, and compute a 95%-confidence interval for each number. [This document](./MIT18_05S14_Reading24.pdf) gives a good tutorial about the bootstrap. You can find the description of the algorithm in Section 7."
   ]
  },
  {
   "cell_type": "code",
   "execution_count": 6,
   "metadata": {},
   "outputs": [
    {
     "data": {
      "image/png": "[encoded data removed]",
      "text/plain": [
       "<matplotlib.figure.Figure at 0x105ba5ba8>"
      ]
     },
     "metadata": {},
     "output_type": "display_data"
    }
   ],
   "source": [
    "plt.yticks(np.arange(0, 1.1, 0.1))\n",
    "ax = sns.barplot(x = 'type', y = 'price', data = sampled_all_price_data, estimator = median, ci = 95.0, errcolor = 'black', n_boot = 1000, palette=\"Set3\")\n",
    "ax.set_ylim([0.0,1.0])\n",
    "ax.grid()\n",
    "plt.xlabel('Median of current and previous price')\n",
    "plt.ylabel('Property price in million')\n",
    "plt.show()"
   ]
  },
  {
   "cell_type": "code",
   "execution_count": 7,
   "metadata": {
    "scrolled": true
   },
   "outputs": [
    {
     "name": "stdout",
     "output_type": "stream",
     "text": [
      "Current price confidence interval, [0.0195, -0.026] and previous price confidence interval [0.019, -0.018]\n"
     ]
    }
   ],
   "source": [
    "# Optional works\n",
    "# Implementation of conf interval calculation for learning purpose as optionally suggested by Prof\n",
    "\n",
    "curr_price_med = df_sample['CURRENT_PRICE'].median()\n",
    "prev_price_med = df_sample['PREVIOUS_PRICE'].median()\n",
    "curr_price_median = []\n",
    "prev_price_median = []\n",
    "for i in range (0, 1000):\n",
    "    curr_price_median.append(df_sample.sample(frac=1.0, replace=True)['CURRENT_PRICE'].median())\n",
    "    prev_price_median.append(df_sample.sample(frac=1.0, replace=True)['PREVIOUS_PRICE'].median())\n",
    "curr_price_median.sort()\n",
    "prev_price_median.sort()\n",
    "conf_interv_curr = [ i  / 1000000 for i in [curr_price_med - curr_price_median[25], curr_price_med - curr_price_median[975]]]\n",
    "conf_interv_prev = [ i  / 1000000 for i in [prev_price_med - prev_price_median[25], prev_price_med - prev_price_median[975]]]\n",
    "print('Current price confidence interval, {} and previous price confidence interval {}'.format(conf_interv_curr, conf_interv_prev))"
   ]
  },
  {
   "cell_type": "code",
   "execution_count": null,
   "metadata": {},
   "outputs": [],
   "source": []
  },
  {
   "cell_type": "markdown",
   "metadata": {},
   "source": [
    "## Submission"
   ]
  },
  {
   "cell_type": "markdown",
   "metadata": {},
   "source": [
    "Complete the code in this [notebook](https://github.com/sfu-db/bigdata-cmpt733/blob/master/Assignments/A4/A4.ipynb), and submit it to the CourSys activity [Assignment 4](https://courses.cs.sfu.ca/2018sp-cmpt-733-g1/+a4/)."
   ]
  }
 ],
 "metadata": {
  "kernelspec": {
   "display_name": "Python 3",
   "language": "python",
   "name": "python3"
  },
  "language_info": {
   "codemirror_mode": {
    "name": "ipython",
    "version": 3
   },
   "file_extension": ".py",
   "mimetype": "text/x-python",
   "name": "python",
   "nbconvert_exporter": "python",
   "pygments_lexer": "ipython3",
   "version": "3.6.2"
  }
 },
 "nbformat": 4,
 "nbformat_minor": 2
}
